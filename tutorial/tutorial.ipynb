{
 "cells": [
  {
   "cell_type": "code",
   "execution_count": 28,
   "metadata": {},
   "outputs": [],
   "source": [
    "# import modules\n",
    "import numpy as np\n",
    "import matplotlib.pyplot as plt\n",
    "import joblib\n",
    "import pandas as pd"
   ]
  },
  {
   "cell_type": "code",
   "execution_count": 2,
   "metadata": {},
   "outputs": [],
   "source": [
    "# noisy_bnsp modules\n",
    "from noisy_bnsp import NSGammaModel, EstConfig, Estimator"
   ]
  },
  {
   "cell_type": "markdown",
   "metadata": {},
   "source": [
    "## Simulation"
   ]
  },
  {
   "cell_type": "code",
   "execution_count": 3,
   "metadata": {},
   "outputs": [],
   "source": [
    "# define random number generator\n",
    "rng = np.random.default_rng(0)"
   ]
  },
  {
   "cell_type": "code",
   "execution_count": 4,
   "metadata": {},
   "outputs": [
    {
     "data": {
      "image/png": "[encoded data removed]",
      "text/plain": [
       "<Figure size 800x200 with 2 Axes>"
      ]
     },
     "metadata": {},
     "output_type": "display_data"
    }
   ],
   "source": [
    "# define model\n",
    "model = NSGammaModel()\n",
    "# specify parameters\n",
    "true_full_params = np.array([\n",
    "    0.1, # lambda (constant intensity of parent Poisson process)\n",
    "    2,  # sigma_1 (rate parameter of Poisson distribution, the expected number of children for the 1st component)\n",
    "    4,  # sigma_2 (same as above, but for the 2nd component)\n",
    "    0.3,  # alpha_1 (shape parameter of the gamma kernel for the 1st component)\n",
    "    0.4,  # alpha_2 (same as above, but for the 2nd component)\n",
    "    1,  # l_1 (rate parameter of the gamma kernel for the 1st component)\n",
    "    1,  # l_2 (same as above, but for the 2nd component)\n",
    "    0.5, # rate of the noise Poisson process for the 1st component\n",
    "    0.5  # rate of the noise Poisson process for the 2nd component\n",
    "    ])\n",
    "\n",
    "# simulate the bivariate process on [0, T]\n",
    "T = 50\n",
    "data = model.simulate(\n",
    "    rng=rng,\n",
    "    T=T,\n",
    "    full_params=true_full_params\n",
    ")\n",
    "# return tuple of 1D numpy arrays\n",
    "assert len(data) == 2\n",
    "for d in data:\n",
    "    assert d.ndim == 1\n",
    "\n",
    "# plot event time by vertical lines\n",
    "fig, ax = plt.subplots(2, 1, figsize=(8, 2), sharex=True)\n",
    "for i, d in enumerate(data):\n",
    "    ax[i].vlines(d, 0, 1)\n",
    "    ax[i].set_yticks([])\n",
    "    ax[i].set_xlim(0, T)\n",
    "ax[1].set_xlabel('Time')\n",
    "plt.show()"
   ]
  },
  {
   "cell_type": "markdown",
   "metadata": {},
   "source": [
    "## Estimation"
   ]
  },
  {
   "cell_type": "code",
   "execution_count": null,
   "metadata": {},
   "outputs": [],
   "source": [
    "# Generate artificial data\n",
    "model = NSGammaModel()\n",
    "T = 10000\n",
    "true_full_params = np.array([0.1, 2, 4, 0.3, 0.4, 1, 1, 0, 0])\n",
    "data = model.simulate(rng, T, true_full_params)\n",
    "\n",
    "# Parameters to be estimated: (a, alpha_1, alpha_2, l_1, l_2)\n",
    "# where a is some function of lambda, sigma_1, sigma_2, and the noise rates\n",
    "# For the details, see the document or arXiv:2410.05732\n",
    "# Note: not all parameters are estimated in this model.\n",
    "true_params = model.convert_params(true_full_params)"
   ]
  },
  {
   "cell_type": "code",
   "execution_count": 23,
   "metadata": {},
   "outputs": [],
   "source": [
    "# specify the configuration of the estimator\n",
    "# C implementation is about 30x faster than Python implementation in my environment\n",
    "cfg = EstConfig(\n",
    "    T=T,  # specify the length of the observation window\n",
    "    obj=\"wl_c\",  # the objective function. \"wl\" for Python implementation, and \"wl_c\" for C implementation\n",
    "    r=1.0,  # the range of correlation (hyperparameter)\n",
    "    opt_method=\"Nelder-Mead\",\n",
    "    initial_param=np.array([10. ,  0.3,  0.4,  1. ,  1. ]),\n",
    "    opt_bound=\"auto\",\n",
    ")\n",
    "\n",
    "# estimate the parameters\n",
    "model = NSGammaModel()\n",
    "est = Estimator(\n",
    "        data[0],  # pass the first component of the data\n",
    "        data[1],  # pass the second component of the data\n",
    "        model=model,  # pass the model\n",
    "        cfg=cfg  # pass the configuration\n",
    "    )\n",
    "result = est.estimate()  # then call the estimate method"
   ]
  },
  {
   "cell_type": "code",
   "execution_count": 26,
   "metadata": {},
   "outputs": [
    {
     "name": "stdout",
     "output_type": "stream",
     "text": [
      "True parameters: [10.   0.3  0.4  1.   1. ]\n",
      "Estimated parameters: [11.42176632  0.28850975  0.42119093  0.82596341  1.07301578]\n"
     ]
    }
   ],
   "source": [
    "# We have estimated the parameters near the true parameters\n",
    "print(f\"True parameters: {true_params}\")\n",
    "print(f\"Estimated parameters: {result}\")"
   ]
  },
  {
   "cell_type": "code",
   "execution_count": 33,
   "metadata": {},
   "outputs": [
    {
     "name": "stderr",
     "output_type": "stream",
     "text": [
      "[Parallel(n_jobs=-1)]: Using backend LokyBackend with 10 concurrent workers.\n",
      "[Parallel(n_jobs=-1)]: Done   5 tasks      | elapsed:    2.1s\n",
      "[Parallel(n_jobs=-1)]: Done  12 tasks      | elapsed:    2.6s\n",
      "[Parallel(n_jobs=-1)]: Done  21 tasks      | elapsed:    3.2s\n",
      "[Parallel(n_jobs=-1)]: Done  30 tasks      | elapsed:    3.7s\n",
      "[Parallel(n_jobs=-1)]: Done  41 tasks      | elapsed:    4.4s\n",
      "[Parallel(n_jobs=-1)]: Done  52 tasks      | elapsed:    5.1s\n",
      "[Parallel(n_jobs=-1)]: Done  65 tasks      | elapsed:    6.0s\n",
      "[Parallel(n_jobs=-1)]: Done  78 tasks      | elapsed:    6.9s\n",
      "[Parallel(n_jobs=-1)]: Done  93 tasks      | elapsed:    8.1s\n",
      "[Parallel(n_jobs=-1)]: Done 108 tasks      | elapsed:    9.1s\n",
      "[Parallel(n_jobs=-1)]: Done 125 tasks      | elapsed:   10.6s\n",
      "[Parallel(n_jobs=-1)]: Done 142 tasks      | elapsed:   11.8s\n",
      "[Parallel(n_jobs=-1)]: Done 161 tasks      | elapsed:   13.1s\n",
      "[Parallel(n_jobs=-1)]: Done 180 tasks      | elapsed:   14.3s\n",
      "[Parallel(n_jobs=-1)]: Done 201 tasks      | elapsed:   15.8s\n",
      "[Parallel(n_jobs=-1)]: Done 222 tasks      | elapsed:   17.3s\n",
      "[Parallel(n_jobs=-1)]: Done 245 tasks      | elapsed:   18.9s\n",
      "[Parallel(n_jobs=-1)]: Done 268 tasks      | elapsed:   20.3s\n",
      "[Parallel(n_jobs=-1)]: Done 293 tasks      | elapsed:   22.1s\n",
      "[Parallel(n_jobs=-1)]: Done 318 tasks      | elapsed:   23.7s\n",
      "[Parallel(n_jobs=-1)]: Done 345 tasks      | elapsed:   25.2s\n",
      "[Parallel(n_jobs=-1)]: Done 372 tasks      | elapsed:   27.2s\n",
      "[Parallel(n_jobs=-1)]: Done 401 tasks      | elapsed:   29.1s\n",
      "[Parallel(n_jobs=-1)]: Done 430 tasks      | elapsed:   31.5s\n",
      "[Parallel(n_jobs=-1)]: Done 461 tasks      | elapsed:   33.5s\n",
      "[Parallel(n_jobs=-1)]: Done 500 out of 500 | elapsed:   35.9s finished\n",
      "[Parallel(n_jobs=-1)]: Using backend LokyBackend with 10 concurrent workers.\n",
      "[Parallel(n_jobs=-1)]: Done   5 tasks      | elapsed:    1.1s\n",
      "[Parallel(n_jobs=-1)]: Done  12 tasks      | elapsed:    2.0s\n",
      "[Parallel(n_jobs=-1)]: Done  21 tasks      | elapsed:    2.9s\n",
      "[Parallel(n_jobs=-1)]: Done  30 tasks      | elapsed:    3.9s\n",
      "[Parallel(n_jobs=-1)]: Done  41 tasks      | elapsed:    4.9s\n",
      "[Parallel(n_jobs=-1)]: Done  52 tasks      | elapsed:    6.2s\n",
      "[Parallel(n_jobs=-1)]: Done  65 tasks      | elapsed:    7.8s\n",
      "[Parallel(n_jobs=-1)]: Done  78 tasks      | elapsed:    9.1s\n",
      "[Parallel(n_jobs=-1)]: Done  93 tasks      | elapsed:   10.7s\n",
      "[Parallel(n_jobs=-1)]: Done 108 tasks      | elapsed:   12.4s\n",
      "[Parallel(n_jobs=-1)]: Done 125 tasks      | elapsed:   14.1s\n",
      "[Parallel(n_jobs=-1)]: Done 142 tasks      | elapsed:   16.1s\n",
      "[Parallel(n_jobs=-1)]: Done 161 tasks      | elapsed:   18.3s\n",
      "[Parallel(n_jobs=-1)]: Done 180 tasks      | elapsed:   20.5s\n",
      "[Parallel(n_jobs=-1)]: Done 201 tasks      | elapsed:   22.6s\n",
      "[Parallel(n_jobs=-1)]: Done 222 tasks      | elapsed:   25.1s\n",
      "[Parallel(n_jobs=-1)]: Done 245 tasks      | elapsed:   27.9s\n",
      "[Parallel(n_jobs=-1)]: Done 268 tasks      | elapsed:   30.5s\n",
      "[Parallel(n_jobs=-1)]: Done 293 tasks      | elapsed:   33.0s\n",
      "[Parallel(n_jobs=-1)]: Done 318 tasks      | elapsed:   35.7s\n",
      "[Parallel(n_jobs=-1)]: Done 345 tasks      | elapsed:   38.5s\n",
      "[Parallel(n_jobs=-1)]: Done 372 tasks      | elapsed:   41.4s\n",
      "[Parallel(n_jobs=-1)]: Done 401 tasks      | elapsed:   44.6s\n",
      "[Parallel(n_jobs=-1)]: Done 430 tasks      | elapsed:   48.1s\n",
      "[Parallel(n_jobs=-1)]: Done 461 tasks      | elapsed:   51.6s\n",
      "[Parallel(n_jobs=-1)]: Done 500 out of 500 | elapsed:   55.8s finished\n",
      "[Parallel(n_jobs=-1)]: Using backend LokyBackend with 10 concurrent workers.\n",
      "[Parallel(n_jobs=-1)]: Done   5 tasks      | elapsed:    2.1s\n",
      "[Parallel(n_jobs=-1)]: Done  12 tasks      | elapsed:    3.9s\n",
      "[Parallel(n_jobs=-1)]: Done  21 tasks      | elapsed:    5.7s\n",
      "[Parallel(n_jobs=-1)]: Done  30 tasks      | elapsed:    7.6s\n",
      "[Parallel(n_jobs=-1)]: Done  41 tasks      | elapsed:   10.1s\n",
      "[Parallel(n_jobs=-1)]: Done  52 tasks      | elapsed:   12.5s\n",
      "[Parallel(n_jobs=-1)]: Done  65 tasks      | elapsed:   15.3s\n",
      "[Parallel(n_jobs=-1)]: Done  78 tasks      | elapsed:   18.2s\n",
      "[Parallel(n_jobs=-1)]: Done  93 tasks      | elapsed:   21.7s\n",
      "[Parallel(n_jobs=-1)]: Done 108 tasks      | elapsed:   24.0s\n",
      "[Parallel(n_jobs=-1)]: Done 125 tasks      | elapsed:   27.8s\n",
      "[Parallel(n_jobs=-1)]: Done 142 tasks      | elapsed:   31.2s\n",
      "[Parallel(n_jobs=-1)]: Done 161 tasks      | elapsed:   35.6s\n",
      "[Parallel(n_jobs=-1)]: Done 180 tasks      | elapsed:   39.5s\n",
      "[Parallel(n_jobs=-1)]: Done 201 tasks      | elapsed:   43.8s\n",
      "[Parallel(n_jobs=-1)]: Done 222 tasks      | elapsed:   48.6s\n",
      "[Parallel(n_jobs=-1)]: Done 245 tasks      | elapsed:   53.2s\n",
      "[Parallel(n_jobs=-1)]: Done 268 tasks      | elapsed:   58.4s\n",
      "[Parallel(n_jobs=-1)]: Done 293 tasks      | elapsed:  1.1min\n",
      "[Parallel(n_jobs=-1)]: Done 318 tasks      | elapsed:  1.1min\n",
      "[Parallel(n_jobs=-1)]: Done 345 tasks      | elapsed:  1.2min\n",
      "[Parallel(n_jobs=-1)]: Done 372 tasks      | elapsed:  1.3min\n",
      "[Parallel(n_jobs=-1)]: Done 401 tasks      | elapsed:  1.4min\n",
      "[Parallel(n_jobs=-1)]: Done 430 tasks      | elapsed:  1.5min\n",
      "[Parallel(n_jobs=-1)]: Done 461 tasks      | elapsed:  1.7min\n",
      "[Parallel(n_jobs=-1)]: Done 500 out of 500 | elapsed:  1.8min finished\n"
     ]
    }
   ],
   "source": [
    "# Monte Carlo simulation to confirm convergence to the true parameters\n",
    "MC = 500\n",
    "res_df_list = []\n",
    "for T in [2500, 5000, 10000]:\n",
    "    true_full_param = np.array([0.1, 2, 4, 0.3, 0.4, 1, 1, 0, 0])  # no noise\n",
    "    true_param = NSGammaModel.convert_params(true_full_param)\n",
    "    cfg = EstConfig(\n",
    "        T=T,\n",
    "        obj=\"wl_c\",\n",
    "        r=1.0,\n",
    "        opt_method=\"Nelder-Mead\",\n",
    "        initial_param=true_param,\n",
    "        opt_bound=\"auto\",\n",
    "    )\n",
    "\n",
    "    # get the sequence of generators to avoid the seed collision\n",
    "    ss = np.random.SeedSequence(42)\n",
    "    child_seeds = ss.spawn(MC)\n",
    "    streams = [np.random.default_rng(s) for s in child_seeds]\n",
    "\n",
    "    # wrap the estimate function for parallel processing\n",
    "    def main(rng: np.random.Generator) -> np.ndarray:\n",
    "        data1, data2 = NSGammaModel().simulate(rng, T, true_full_param)\n",
    "        est = Estimator(data1=data1, data2=data2, model=NSGammaModel(), cfg=cfg)\n",
    "        return est.estimate()\n",
    "\n",
    "    # simulate and estimate the parameters in parallel\n",
    "    res = joblib.Parallel(n_jobs=-1, verbose=10)(\n",
    "        joblib.delayed(main)(rng) for rng in streams\n",
    "    )\n",
    "\n",
    "    res_df = pd.DataFrame(res, columns=[\"a\", \"a1\", \"a2\", \"l1\", \"l2\"]) # type: ignore\n",
    "    res_df_list.append(res_df)"
   ]
  },
  {
   "cell_type": "code",
   "execution_count": 42,
   "metadata": {},
   "outputs": [
    {
     "data": {
      "image/png": "[encoded data removed]",
      "text/plain": [
       "<Figure size 1500x600 with 15 Axes>"
      ]
     },
     "metadata": {},
     "output_type": "display_data"
    }
   ],
   "source": [
    "# We can see that the estimated parameters are converging to the true parameters as T increases\n",
    "\n",
    "fig, axs = plt.subplots(3, 5, figsize=(15, 6), sharex=\"col\")\n",
    "for i, res_df in enumerate(res_df_list):\n",
    "    for j, col in enumerate(res_df.columns):\n",
    "        axs[i, j].hist(res_df[col], bins=30)\n",
    "        axs[i, j].set_title(col)\n",
    "        true_val = true_param[j]\n",
    "        axs[i, j].axvline(true_val, color=\"red\", linestyle=\"--\")\n",
    "        axs[i, j].set_yticks([])\n",
    "    axs[i, 0].set_ylabel(f\"T = {2500 * 2 ** i}\")\n",
    "\n",
    "fig.tight_layout()"
   ]
  }
 ],
 "metadata": {
  "kernelspec": {
   "display_name": ".venv",
   "language": "python",
   "name": "python3"
  },
  "language_info": {
   "codemirror_mode": {
    "name": "ipython",
    "version": 3
   },
   "file_extension": ".py",
   "mimetype": "text/x-python",
   "name": "python",
   "nbconvert_exporter": "python",
   "pygments_lexer": "ipython3",
   "version": "3.12.3"
  }
 },
 "nbformat": 4,
 "nbformat_minor": 2
}
